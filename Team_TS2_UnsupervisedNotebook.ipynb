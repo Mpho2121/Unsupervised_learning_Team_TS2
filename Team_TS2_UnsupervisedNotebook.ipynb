{
 "cells": [
  {
   "cell_type": "code",
   "execution_count": 2,
   "metadata": {},
   "outputs": [],
   "source": [
    "# Input data files are available in the read-only \"../input/\" directory\n",
    "# For example, running this (by clicking run or pressing Shift+Enter) will list all files under the input directory\n",
    "\n",
    "import os\n",
    "for dirname, _, filenames in os.walk('/kaggle/input'):\n",
    "    for filename in filenames:\n",
    "        print(os.path.join(dirname, filename))\n",
    "\n",
    "# You can write up to 20GB to the current directory (/kaggle/working/) that gets preserved as output when you create a version using \"Save & Run All\" \n",
    "# You can also write temporary files to /kaggle/temp/, but they won't be saved outside of the current session"
   ]
  },
  {
   "cell_type": "markdown",
   "metadata": {},
   "source": [
    "### **Summary**\n",
    "add once everything is finalized"
   ]
  },
  {
   "cell_type": "markdown",
   "metadata": {},
   "source": [
    "### **Contents**\n",
    "1. Introduction\n",
    "2. Installing Packages\n",
    "3. Data Loading & Exploratory Data Analysis\n",
    "4. Pre-Processing & further EDA\n",
    "5. Collaborative-based filtering recommender & evaluation\n",
    "6. Content-based filtering recommender & evaluation\n",
    "7. Conclusion"
   ]
  },
  {
   "cell_type": "markdown",
   "metadata": {},
   "source": [
    "### **1. Introduction**\n",
    "Recommender systems form part of everyday life, playing an extensive role behind the types of decisions people make a day. Information filtering forms the basis of these systems, whereby machine learning algorithms are used to aim at suggesting relevant items to users based on their preferences as well as the history of their decisions. Such items include what movies to watch, books or articles to read, products to buy or anything else depending on the products and services offered by different industries. As such recommender systems are highly valuable features among many industries, making a significant contribution to generating huge amounts of income and also providing a means for different companies to stand out among their competitors within each industry. \n",
    "\n",
    "Two of the most popular approaches used in building efficient recommender systems are Collaborative-based filtering and Content-based filtering. Collaborative-based filtering is based on the assumption that people who agreed in the past will agree in the future, and that they will like similar kinds of items as they liked in the past. It simply filters out items that a user might like on the basis of reactions by similar users. The system works by searching for a large group of people and then finds a smaller set of users with tastes similar to a particular user (i.e. it looks at rating histories similar to the current user or item). It will then look at the items they like and combine them to create a ranked list of recommendations. One of the key advantages of the collaborative filtering approach is that it does not need machine analyzable content and therefore it is capable of accurately recommending complex items such as movies without requiring an \"understanding\" of the item itself. \n",
    "\n",
    "The other approach, being Content-based filtering, works with data that the user provides, either explicitly (rating) or implicitly (clicking on a link) and is therefore solely based on a user’s preferences and not a community of users as with Collaborative-based filtering. Data for an item is collected, and subsequently used to generate a user profile. This profile then indicates the type of item the user likes and tries to recommend items that are similar to those that a user liked in the past, or is considering in the present. Furthermore, as the user provides more inputs or takes actions on the recommendations, the engine becomes more and more accurate. \n",
    "\n",
    "The film and entertainment industry makes significant use of recommender systems given the magnitude of movies that exist today.  In this industry intelligent algorithms are utilized to help viewers find great titles from tens of thousands of options.  With this context, the challenge presented here requires the construction of a recommendation algorithm based on content or collaborative filtering, that is capable of accurately predicting how a user will rate a movie they have not yet viewed based on their historical preferences, i.e. their ratings of movies that they have watched. Insight into this kind of information provides an additional level of information that recommender algorithms can learn about users and which can improve in the accuracy of what content is recommended to users for viewing or purchase. Furthermore, providing an accurate and robust solution to this challenge has immense economic potential, generating revenue and platform affinity for the company behind it.\n",
    "\n",
    "This notebook details the work flow of Team TS2 in building a recommender system that effectively recommends movies to a user based on how they rated movies. "
   ]
  },
  {
   "cell_type": "markdown",
   "metadata": {},
   "source": [
    "### **2. Installing Packages**"
   ]
  },
  {
   "cell_type": "code",
   "execution_count": 1,
   "metadata": {},
   "outputs": [],
   "source": [
    "import numpy as np # linear algebra\n",
    "import pandas as pd # data processing, CSV file I/O (e.g. pd.read_csv)"
   ]
  },
  {
   "cell_type": "markdown",
   "metadata": {},
   "source": [
    "### **3. Data Loading & Exploratory Data Analysis**"
   ]
  },
  {
   "cell_type": "markdown",
   "metadata": {},
   "source": [
    "### **4. Pre-Processing of Data & Further EDA**"
   ]
  },
  {
   "cell_type": "markdown",
   "metadata": {},
   "source": [
    "### **5. Collaborative-based filtering recommender & evaluation**"
   ]
  },
  {
   "cell_type": "markdown",
   "metadata": {},
   "source": [
    "### **6. Content-based filtering recommender & evaluation**"
   ]
  },
  {
   "cell_type": "markdown",
   "metadata": {},
   "source": [
    "### **7. Conclusion**"
   ]
  },
  {
   "cell_type": "code",
   "execution_count": null,
   "metadata": {},
   "outputs": [],
   "source": []
  }
 ],
 "metadata": {
  "kernelspec": {
   "display_name": "Python 3",
   "language": "python",
   "name": "python3"
  },
  "language_info": {
   "codemirror_mode": {
    "name": "ipython",
    "version": 3
   },
   "file_extension": ".py",
   "mimetype": "text/x-python",
   "name": "python",
   "nbconvert_exporter": "python",
   "pygments_lexer": "ipython3",
   "version": "3.8.5"
  }
 },
 "nbformat": 4,
 "nbformat_minor": 4
}
